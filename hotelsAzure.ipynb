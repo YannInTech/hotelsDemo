{
 "cells": [
  {
   "cell_type": "markdown",
   "metadata": {},
   "source": [
    "# Hotels sample Search application for Azure AI with search.documents and storage.blob Azure Python SDKs"
   ]
  },
  {
   "cell_type": "code",
   "execution_count": 53,
   "metadata": {},
   "outputs": [],
   "source": [
    "import os\n",
    "from azure.core.credentials import AzureKeyCredential\n",
    "from azure.search.documents.indexes.models import (\n",
    "    SearchIndexerDataContainer,\n",
    "    SearchIndex,\n",
    "    SearchIndexer,\n",
    "    SimpleField,\n",
    "    SearchFieldDataType,\n",
    "    EntityRecognitionSkill,\n",
    "    InputFieldMappingEntry,\n",
    "    OutputFieldMappingEntry,\n",
    "    SearchIndexerSkillset,\n",
    "    CorsOptions,\n",
    "    IndexingSchedule,\n",
    "    SearchableField,\n",
    "    IndexingParameters,\n",
    "    SearchIndexerDataSourceConnection,\n",
    "    IndexingParametersConfiguration,\n",
    ")\n",
    "from azure.search.documents.indexes import SearchIndexerClient, SearchIndexClient\n",
    "from azure.search.documents import SearchClient\n",
    "from azure.storage.blob import BlobServiceClient\n",
    "from dotenv import load_dotenv\n",
    "import json\n"
   ]
  },
  {
   "cell_type": "code",
   "execution_count": 2,
   "metadata": {},
   "outputs": [],
   "source": [
    "load_dotenv()\n",
    "\n",
    "# Please create an .env file with the following variables and save it in the same directory\n",
    "\n",
    "service_endpoint = os.getenv(\"AZURE_SEARCH_SERVICE_ENDPOINT\")\n",
    "key = os.getenv(\"AZURE_SEARCH_API_KEY\")\n",
    "connection_string = os.getenv(\"AZURE_STORAGE_CONNECTION_STRING\")\n",
    "container_name = os.getenv(\"AZURE_STORAGE_CONTAINER_NAME\")"
   ]
  },
  {
   "cell_type": "code",
   "execution_count": 3,
   "metadata": {},
   "outputs": [],
   "source": [
    "def upload_blob_file(name):\n",
    "    service_client=BlobServiceClient.from_connection_string(connection_string)\n",
    "    container_client = service_client.get_container_client(container_name)\n",
    "    blob_client = container_client.get_blob_client('hotel_small.json')\n",
    "    with open(file=os.path.join('.', name), mode=\"rb\") as data:\n",
    "        blob_client.upload_blob(data, overwrite=True)"
   ]
  },
  {
   "cell_type": "code",
   "execution_count": 4,
   "metadata": {},
   "outputs": [],
   "source": [
    "def create_datasource():\n",
    "    ds_client = SearchIndexerClient(service_endpoint, AzureKeyCredential(key))\n",
    "    container = SearchIndexerDataContainer(name=container_name)\n",
    "    data_source_connection = SearchIndexerDataSourceConnection(\n",
    "        name=\"hotel-datasource\", type=\"azureblob\", connection_string=connection_string, container=container\n",
    "    )\n",
    "    data_source = ds_client.create_data_source_connection(data_source_connection)\n",
    "    return data_source"
   ]
  },
  {
   "cell_type": "code",
   "execution_count": 36,
   "metadata": {},
   "outputs": [],
   "source": [
    "def create_index():\n",
    "    name = \"hotel-index\"\n",
    "\n",
    "    # Here we create an index with listed fields\n",
    "    \n",
    "    fields = [\n",
    "        SimpleField(name=\"hotelId\", type=SearchFieldDataType.String, filterable=True, sortable=True, key=True),\n",
    "        SearchableField(name=\"hotelName\", type=SearchFieldDataType.String, sortable=True),\n",
    "        SearchableField(name=\"description\", type=SearchFieldDataType.String, analyzer_name=\"en.lucene\"),\n",
    "        SearchableField(name=\"descriptionFr\", type=SearchFieldDataType.String, analyzer_name=\"fr.lucene\"),\n",
    "        SearchableField(name=\"category\", type=SearchFieldDataType.String, facetable=True, filterable=True, sortable=True),\n",
    "        SearchableField(name=\"tags\", collection=True, type=SearchFieldDataType.String, facetable=True, filterable=True),\n",
    "        SimpleField(name=\"parkingIncluded\", type=SearchFieldDataType.Boolean, filterable=True),\n",
    "        SimpleField(name=\"smokingAllowed\", type=SearchFieldDataType.Boolean, filterable=True),\n",
    "        SimpleField(name=\"lastRenovationDate\", type=SearchFieldDataType.DateTimeOffset, facetable=True, filterable=True, sortable=True),\n",
    "        SimpleField(name=\"rating\", type=SearchFieldDataType.Int64, facetable=True, filterable=True, sortable=True),\n",
    "        SimpleField(name=\"location\", type=SearchFieldDataType.GeographyPoint),\n",
    "    ]\n",
    "    cors_options = CorsOptions(allowed_origins=[\"*\"], max_age_in_seconds=60)\n",
    "\n",
    "    # pass in the name, fields and cors options and create the index\n",
    "    index = SearchIndex(name=name, fields=fields, cors_options=cors_options)\n",
    "    index_client = SearchIndexClient(service_endpoint, AzureKeyCredential(key))\n",
    "    result = index_client.create_index(index)\n",
    "    return result"
   ]
  },
  {
   "cell_type": "code",
   "execution_count": 6,
   "metadata": {},
   "outputs": [],
   "source": [
    "# example skillset to use with an indexer for added AI enrichments\n",
    "\n",
    "def create_skillset():\n",
    "    client = SearchIndexerClient(service_endpoint, AzureKeyCredential(key))\n",
    "    inp = InputFieldMappingEntry(name=\"text\", source=\"/document/lastRenovationDate\")\n",
    "    output = OutputFieldMappingEntry(name=\"dateTimes\", target_name=\"RenovatedDate\")\n",
    "    s = EntityRecognitionSkill(name=\"merge-skill\", inputs=[inp], outputs=[output])\n",
    "\n",
    "    skillset = SearchIndexerSkillset(name=\"hotel-data-skill\", skills=[s], description=\"skillset for hotels\")\n",
    "    result = client.create_skillset(skillset)\n",
    "    return result"
   ]
  },
  {
   "cell_type": "code",
   "execution_count": 7,
   "metadata": {},
   "outputs": [],
   "source": [
    "upload_blob_file('hotel_small.json')"
   ]
  },
  {
   "cell_type": "code",
   "execution_count": null,
   "metadata": {},
   "outputs": [],
   "source": [
    "#DO NOT RUN\n",
    "#known issue with indexer creation\n",
    "#https://github.com/Azure/azure-sdk-for-python/pull/33357\n",
    "#https://github.com/Azure/azure-sdk-for-python/issues/33382\n",
    "\n",
    "\"\"\"\n",
    "# Now that we have a datasource and an index, we can create an indexer.\n",
    "\n",
    "skillset_name = create_skillset().name\n",
    "print(\"Skillset is created\")\n",
    "\n",
    "ds_name = create_datasource().name\n",
    "print(\"Data source is created\")\n",
    "\n",
    "index_name = create_index().name\n",
    "print(\"Index is created\")\n",
    "\n",
    "# we pass the data source, skillsets and targeted index to build an indexer\n",
    "configuration = IndexingParametersConfiguration(parsing_mode=\"json\")\n",
    "parameters = IndexingParameters(configuration=configuration)\n",
    "indexer = SearchIndexer(\n",
    "    name=\"hotel-data-indexer\",\n",
    "    data_source_name=ds_name,\n",
    "    target_index_name=index_name,\n",
    "    skillset_name=skillset_name,\n",
    "    parameters=parameters,\n",
    ")\n",
    "\n",
    "indexer_client = SearchIndexerClient(service_endpoint, AzureKeyCredential(key))\n",
    "indexer_client.create_indexer(indexer)  # create the indexer\n",
    "\n",
    "# to get an indexer\n",
    "result = indexer_client.get_indexer(\"hotel-data-indexer\")\n",
    "print(result)\n",
    "\n",
    "# To run an indexer, we can use run_indexer()\n",
    "indexer_client.run_indexer(result.name)\n",
    "\n",
    "# get the status of an indexer\n",
    "indexer_client.get_indexer_status(result.name)\n",
    "\"\"\""
   ]
  },
  {
   "cell_type": "code",
   "execution_count": 37,
   "metadata": {},
   "outputs": [
    {
     "name": "stdout",
     "output_type": "stream",
     "text": [
      "Index is created\n",
      "Uploaded 10 documents\n"
     ]
    }
   ],
   "source": [
    "#ALTERNATIVE without advanced indexer skills\n",
    "\n",
    "# Upload some documents to the index\n",
    "\n",
    "index_name = create_index().name\n",
    "print(\"Index is created\")\n",
    "\n",
    "with open(os.path.join('.', 'hotel_small.json'), 'r') as file:  \n",
    "    documents = json.load(file)  \n",
    "search_client = SearchClient(service_endpoint, index_name, AzureKeyCredential(key))\n",
    "result = search_client.upload_documents(documents)\n",
    "print(f\"Uploaded {len(documents)} documents\")"
   ]
  },
  {
   "cell_type": "markdown",
   "metadata": {},
   "source": [
    "Queries"
   ]
  },
  {
   "cell_type": "code",
   "execution_count": 52,
   "metadata": {},
   "outputs": [
    {
     "name": "stdout",
     "output_type": "stream",
     "text": [
      "1: Fancy Stay - 5 rating\n",
      "9: Secret Point Motel - 4 rating\n"
     ]
    }
   ],
   "source": [
    "# This is a query based on keywords search within the fields defined as searchable when creating the index\n",
    "# The search results are returned with only the select fields content, presenting results as filtered by rating  >3 and sorted.\n",
    "# Filterable and sortable fields are also definied when creating the index\n",
    "\n",
    "results = search_client.search(search_text=\"swimming pool\", select='hotelId,hotelName,rating,tags', filter='rating gt 3', order_by='rating desc')\n",
    "\n",
    "for result in results:\n",
    "    print(\"{}: {} - {} rating\".format(result[\"hotelId\"], result[\"hotelName\"], result[\"rating\"], result[\"tags\"]))"
   ]
  },
  {
   "cell_type": "code",
   "execution_count": 46,
   "metadata": {},
   "outputs": [
    {
     "name": "stdout",
     "output_type": "stream",
     "text": [
      "Name: Secret Point Motel\n",
      "Rating: 4\n",
      "Category: Boutique\n",
      "Tags: ['pool', 'air conditioning', 'concierge']\n",
      "LastRenovationDate: 1970-01-18T05:00:00Z\n",
      "Description: The hotel is ideally located on the main commercial artery of the city in the heart of New York. A few minutes away is Time's Square and the historic centre of the city, as well as other places of interest that make New York one of America's most attractive and cosmopolitan cities.\n"
     ]
    }
   ],
   "source": [
    "# Search by document key, all fields content are returned (no select)\n",
    "\n",
    "result = search_client.get_document(key=\"9\")\n",
    "\n",
    "print(\"Name: {}\".format(result[\"hotelName\"]))\n",
    "print(\"Rating: {}\".format(result[\"rating\"]))\n",
    "print(\"Category: {}\".format(result[\"category\"]))\n",
    "print(\"Tags: {}\".format(result[\"tags\"]))\n",
    "print(\"LastRenovationDate: {}\".format(result[\"lastRenovationDate\"]))\n",
    "print(\"Description: {}\".format(result[\"description\"]))"
   ]
  },
  {
   "cell_type": "code",
   "execution_count": 42,
   "metadata": {},
   "outputs": [
    {
     "name": "stdout",
     "output_type": "stream",
     "text": [
      "{'value': 'Budget', 'count': 5}\n",
      "{'value': 'Boutique', 'count': 1}\n",
      "{'value': 'Luxury', 'count': 1}\n"
     ]
    }
   ],
   "source": [
    "# Global search leveraging the facetable fields\n",
    "\n",
    "results =  search_client.search(search_text=\"*\", facets=[\"category\"])\n",
    "\n",
    "facets = results.get_facets()\n",
    "\n",
    "for facet in facets[\"category\"]:\n",
    "    print(\"{}\".format(facet))"
   ]
  }
 ],
 "metadata": {
  "kernelspec": {
   "display_name": "hotelsAzure",
   "language": "python",
   "name": "python3"
  },
  "language_info": {
   "codemirror_mode": {
    "name": "ipython",
    "version": 3
   },
   "file_extension": ".py",
   "mimetype": "text/x-python",
   "name": "python",
   "nbconvert_exporter": "python",
   "pygments_lexer": "ipython3",
   "version": "3.12.0"
  }
 },
 "nbformat": 4,
 "nbformat_minor": 2
}
