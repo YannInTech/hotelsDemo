{
 "cells": [
  {
   "cell_type": "markdown",
   "metadata": {},
   "source": [
    "## Hotels sample Search application for Azure AI"
   ]
  },
  {
   "cell_type": "code",
   "execution_count": 1,
   "metadata": {},
   "outputs": [],
   "source": [
    "import os\n",
    "from azure.core.credentials import AzureKeyCredential\n",
    "from azure.search.documents.indexes.models import (\n",
    "    SearchIndexerDataContainer,\n",
    "    SearchIndex,\n",
    "    SearchIndexer,\n",
    "    SimpleField,\n",
    "    SearchFieldDataType,\n",
    "    EntityRecognitionSkill,\n",
    "    InputFieldMappingEntry,\n",
    "    OutputFieldMappingEntry,\n",
    "    TextTranslationSkill,\n",
    "    SearchIndexerSkillset,\n",
    "    CorsOptions,\n",
    "    IndexingSchedule,\n",
    "    SearchableField,\n",
    "    IndexingParameters,\n",
    "    SearchIndexerDataSourceConnection,\n",
    "    IndexingParametersConfiguration,\n",
    ")\n",
    "from azure.search.documents.indexes import SearchIndexerClient, SearchIndexClient\n",
    "from azure.search.documents import SearchClient\n",
    "from azure.storage.blob import BlobServiceClient\n",
    "from azure.core.exceptions import ResourceExistsError\n",
    "from dotenv import load_dotenv"
   ]
  },
  {
   "cell_type": "markdown",
   "metadata": {},
   "source": [
    "Loading credentials environment variables"
   ]
  },
  {
   "cell_type": "code",
   "execution_count": 2,
   "metadata": {},
   "outputs": [
    {
     "name": "stdout",
     "output_type": "stream",
     "text": [
      "container name: hotelscontainer\n"
     ]
    }
   ],
   "source": [
    "load_dotenv()\n",
    "\n",
    "# please create an .env file with the following variables and save it in the same directory\n",
    "# container_name is optional, one will be created if not provided\n",
    "\n",
    "service_endpoint = os.getenv(\"AZURE_SEARCH_SERVICE_ENDPOINT\")\n",
    "key = os.getenv(\"AZURE_SEARCH_API_KEY\")\n",
    "connection_string = os.getenv(\"AZURE_STORAGE_CONNECTION_STRING\")\n",
    "container_name = os.getenv(\"AZURE_STORAGE_CONTAINER_NAME\", default='hotelscontainer')\n",
    "print(f\"container name: {container_name}\")"
   ]
  },
  {
   "cell_type": "markdown",
   "metadata": {},
   "source": [
    "Upload source .json file on Azure storage container before index creation"
   ]
  },
  {
   "cell_type": "code",
   "execution_count": 3,
   "metadata": {},
   "outputs": [
    {
     "name": "stdout",
     "output_type": "stream",
     "text": [
      "Creating container: hotelscontainer\n",
      "Uploading file: hotelscontainer\n"
     ]
    }
   ],
   "source": [
    "def upload_blob_file(name):\n",
    "    service_client=BlobServiceClient.from_connection_string(connection_string)\n",
    "    container_client=create_container(service_client, container_name)\n",
    "    blob_client = container_client.get_blob_client('hotel_small.json')\n",
    "    with open(file=os.path.join('.', name), mode=\"rb\") as data:\n",
    "        blob_client.upload_blob(data, overwrite=True)\n",
    "    print(f\"Uploading file: {container_name}\")\n",
    "\n",
    "def create_container(blob_service_client, container_name):\n",
    "    try:\n",
    "        container_client = blob_service_client.create_container(container_name)\n",
    "        print(f\"Creating container: {container_name}\")\n",
    "    except ResourceExistsError:\n",
    "        print(f\"The container with name {container_name} already exists\")\n",
    "        container_client = blob_service_client.get_container_client(container=container_name)\n",
    "    return container_client\n",
    "\n",
    "upload_blob_file('hotel_small.json')"
   ]
  },
  {
   "cell_type": "code",
   "execution_count": 4,
   "metadata": {},
   "outputs": [],
   "source": [
    "# datasource is needed with an indexer\n",
    "\n",
    "def create_datasource():\n",
    "    ds_client = SearchIndexerClient(service_endpoint, AzureKeyCredential(key))\n",
    "    container = SearchIndexerDataContainer(name=container_name)\n",
    "    data_source_connection = SearchIndexerDataSourceConnection(\n",
    "        name=\"hotel-datasource\", type=\"azureblob\", connection_string=connection_string, container=container\n",
    "    )\n",
    "    data_source = ds_client.create_data_source_connection(data_source_connection)\n",
    "    return data_source"
   ]
  },
  {
   "cell_type": "markdown",
   "metadata": {},
   "source": [
    "Index creation"
   ]
  },
  {
   "cell_type": "code",
   "execution_count": 5,
   "metadata": {},
   "outputs": [],
   "source": [
    "def create_index():\n",
    "    name = \"hotel-index\"\n",
    "\n",
    "    # create an index with listed fields\n",
    "    \n",
    "    fields = [\n",
    "        SimpleField(name=\"hotelId\", type=SearchFieldDataType.String, filterable=True, sortable=True, key=True),\n",
    "        SearchableField(name=\"hotelName\", type=SearchFieldDataType.String, sortable=True),\n",
    "        SearchableField(name=\"description\", type=SearchFieldDataType.String, analyzer_name=\"en.lucene\"),\n",
    "        SearchableField(name=\"descriptionFr\", type=SearchFieldDataType.String, analyzer_name=\"fr.lucene\"),\n",
    "        SearchableField(name=\"descriptionDe\", type=SearchFieldDataType.String, analyzer_name=\"de.lucene\"),\n",
    "        SearchableField(name=\"category\", type=SearchFieldDataType.String, facetable=True, filterable=True, sortable=True),\n",
    "        SearchableField(name=\"tags\", collection=True, type=SearchFieldDataType.String, facetable=True, filterable=True),\n",
    "        SimpleField(name=\"parkingIncluded\", type=SearchFieldDataType.Boolean, filterable=True),\n",
    "        SimpleField(name=\"smokingAllowed\", type=SearchFieldDataType.Boolean, filterable=True),\n",
    "        SimpleField(name=\"lastRenovationDate\", type=SearchFieldDataType.DateTimeOffset, facetable=True, filterable=True, sortable=True),\n",
    "        SimpleField(name=\"rating\", type=SearchFieldDataType.Int64, facetable=True, filterable=True, sortable=True),\n",
    "        SimpleField(name=\"location\", type=SearchFieldDataType.GeographyPoint),\n",
    "    ]\n",
    "    cors_options = CorsOptions(allowed_origins=[\"*\"], max_age_in_seconds=60)\n",
    "\n",
    "    # pass in the name, fields and cors options and create the index\n",
    "    index = SearchIndex(name=name, fields=fields, cors_options=cors_options)\n",
    "    index_client = SearchIndexClient(service_endpoint, AzureKeyCredential(key))\n",
    "    result = index_client.create_index(index)\n",
    "    return result"
   ]
  },
  {
   "cell_type": "markdown",
   "metadata": {},
   "source": [
    "Skillset creation for AI translation for searchable fields"
   ]
  },
  {
   "cell_type": "code",
   "execution_count": 6,
   "metadata": {},
   "outputs": [],
   "source": [
    "# draft skillset to use with an indexer for added AI enrichments\n",
    "\n",
    "def create_skillset():\n",
    "    client = SearchIndexerClient(service_endpoint, AzureKeyCredential(key))\n",
    "\n",
    "    in_description = InputFieldMappingEntry(name=\"text\", source=\"/document/description\")\n",
    "    out_description = OutputFieldMappingEntry(name=\"translatedText\", target_name=\"descriptionDe\")\n",
    "    translate = TextTranslationSkill(suggested_from=\"en\", default_from_language_code=\"en\", default_to_language_code=\"de\", context=\"/document\",\n",
    "                                     inputs=[in_description], outputs=[out_description])\n",
    "\n",
    "    skillset = SearchIndexerSkillset(name=\"hotels-skill\", skills=[translate], description=\"skillset for hotels\")\n",
    "    result = client.create_skillset(skillset)\n",
    "    return result"
   ]
  },
  {
   "cell_type": "code",
   "execution_count": 7,
   "metadata": {},
   "outputs": [
    {
     "name": "stdout",
     "output_type": "stream",
     "text": [
      "Skillset is created\n",
      "Data source is created\n",
      "Index is created\n",
      "{'additional_properties': {'@odata.context': 'https://prototypes-search.search.windows.net/$metadata#indexers/$entity'}, 'name': 'hotels-indexer', 'description': None, 'data_source_name': 'hotel-datasource', 'skillset_name': 'hotels-skill', 'target_index_name': 'hotel-index', 'schedule': None, 'parameters': <azure.search.documents.indexes._generated.models._models_py3.IndexingParameters object at 0x000001D6DDDCE330>, 'field_mappings': [], 'output_field_mappings': [], 'is_disabled': False, 'e_tag': '\"0x8DC0B847A602878\"', 'encryption_key': None}\n"
     ]
    }
   ],
   "source": [
    "# logged issue with indexer creation with azure-search-documents 11.4.0 :\n",
    "# https://github.com/Azure/azure-sdk-for-python/pull/33357\n",
    "# https://github.com/Azure/azure-sdk-for-python/issues/33382\n",
    "# workaround to pass query_timeout=None with IndexingParametersConfiguration() instantiation\n",
    "\n",
    "\n",
    "skillset_name = create_skillset().name\n",
    "print(\"Skillset is created\")\n",
    "\n",
    "ds_name = create_datasource().name\n",
    "print(\"Data source is created\")\n",
    "\n",
    "index_name = create_index().name\n",
    "print(\"Index is created\")\n",
    "\n",
    "# pass the data source, skillset and targeted index to build an indexer\n",
    "configuration = IndexingParametersConfiguration(parsing_mode=\"jsonArray\", query_timeout=None)\n",
    "parameters = IndexingParameters(configuration=configuration)\n",
    "indexer = SearchIndexer(\n",
    "    name=\"hotels-indexer\",\n",
    "    data_source_name=ds_name,\n",
    "    target_index_name=index_name,\n",
    "    skillset_name=skillset_name,\n",
    "    parameters=parameters,\n",
    ")\n",
    "\n",
    "indexer_client = SearchIndexerClient(service_endpoint, AzureKeyCredential(key))\n",
    "indexer_name=indexer_client.create_indexer(indexer).name  # create the indexer\n",
    "\n",
    "# get the indexer\n",
    "result = indexer_client.get_indexer(indexer_name)\n",
    "print(result)"
   ]
  },
  {
   "cell_type": "code",
   "execution_count": 8,
   "metadata": {},
   "outputs": [],
   "source": [
    "# run the indexer\n",
    "indexer_client.run_indexer(indexer_name)"
   ]
  },
  {
   "cell_type": "markdown",
   "metadata": {},
   "source": [
    "Create a queries client"
   ]
  },
  {
   "cell_type": "code",
   "execution_count": 9,
   "metadata": {},
   "outputs": [],
   "source": [
    "# instantiate a search client before running queries on the populated index\n",
    "search_client = SearchClient(service_endpoint, index_name, AzureKeyCredential(key))"
   ]
  },
  {
   "cell_type": "markdown",
   "metadata": {},
   "source": [
    "Example queries"
   ]
  },
  {
   "cell_type": "code",
   "execution_count": 10,
   "metadata": {},
   "outputs": [
    {
     "name": "stdout",
     "output_type": "stream",
     "text": [
      "1: Fancy Stay - 5 rating\n",
      "9: Secret Point Motel - 4 rating\n"
     ]
    }
   ],
   "source": [
    "# this is a query based on keywords search within the fields defined as searchable when creating the index\n",
    "# the search results are returned with only the select fields content, presenting results as filtered by rating  >3 and sorted\n",
    "# filterable and sortable fields are also definied when creating the index\n",
    "\n",
    "results = search_client.search(search_text=\"pool\", select='hotelId,hotelName,rating,tags', filter='rating gt 3', order_by='rating desc')\n",
    "\n",
    "for result in results:\n",
    "    print(\"{}: {} - {} rating\".format(result[\"hotelId\"], result[\"hotelName\"], result[\"rating\"], result[\"tags\"]))"
   ]
  },
  {
   "cell_type": "code",
   "execution_count": 11,
   "metadata": {},
   "outputs": [
    {
     "name": "stdout",
     "output_type": "stream",
     "text": [
      "Name: Secret Point Motel\n",
      "Rating: 4\n",
      "Category: Boutique\n",
      "Tags: ['pool', 'air conditioning', 'concierge']\n",
      "LastRenovationDate: 1970-01-18T05:00:00Z\n",
      "Description: None\n"
     ]
    }
   ],
   "source": [
    "# search by document key, all fields content are returned (no select)\n",
    "\n",
    "result = search_client.get_document(key=\"9\")\n",
    "\n",
    "print(\"Name: {}\".format(result[\"hotelName\"]))\n",
    "print(\"Rating: {}\".format(result[\"rating\"]))\n",
    "print(\"Category: {}\".format(result[\"category\"]))\n",
    "print(\"Tags: {}\".format(result[\"tags\"]))\n",
    "print(\"LastRenovationDate: {}\".format(result[\"lastRenovationDate\"]))\n",
    "print(\"Description: {}\".format(result[\"descriptionDe\"]))"
   ]
  },
  {
   "cell_type": "code",
   "execution_count": 12,
   "metadata": {},
   "outputs": [
    {
     "name": "stdout",
     "output_type": "stream",
     "text": [
      "{'value': 'Budget', 'count': 5}\n",
      "{'value': 'Boutique', 'count': 1}\n",
      "{'value': 'Luxury', 'count': 1}\n"
     ]
    }
   ],
   "source": [
    "# global search leveraging the facetable fields\n",
    "\n",
    "results =  search_client.search(search_text=\"*\", facets=[\"category\"])\n",
    "\n",
    "facets = results.get_facets()\n",
    "\n",
    "for facet in facets[\"category\"]:\n",
    "    print(\"{}\".format(facet))"
   ]
  }
 ],
 "metadata": {
  "kernelspec": {
   "display_name": "hotelsAzure",
   "language": "python",
   "name": "python3"
  },
  "language_info": {
   "codemirror_mode": {
    "name": "ipython",
    "version": 3
   },
   "file_extension": ".py",
   "mimetype": "text/x-python",
   "name": "python",
   "nbconvert_exporter": "python",
   "pygments_lexer": "ipython3",
   "version": "3.12.0"
  }
 },
 "nbformat": 4,
 "nbformat_minor": 2
}
